{
 "cells": [
  {
   "cell_type": "markdown",
   "id": "aa03cd7f",
   "metadata": {},
   "source": [
    "# Demonstration Parameters"
   ]
  },
  {
   "cell_type": "markdown",
   "id": "ea34f8fe",
   "metadata": {},
   "source": [
    "----------------\n",
    "\n",
    "Here we define the metadata for demonstrations: <br>\n",
    "(1) the number of demonstrations <br>\n",
    "(2) the percentage of correct demonstrations that the false demonstrations should have (default is 0) <br>\n",
    "(3) if the false demonstration should use permuted incorrect labels or randomly chosen incorrect labels <br>\n",
    "\n",
    "----------------"
   ]
  },
  {
   "cell_type": "markdown",
   "id": "721a9752",
   "metadata": {},
   "source": [
    "## Table of Contents\n",
    "- <a href='#0)-Prereqs'>0) Prereqs</a>\n",
    "- <a href='#1)-Define-Demonstration-Parameters'>1) Define Demonstration Parameters</a>\n",
    "- <a href='#2)-Save-Demonstration-Parameters'>2) Save Demonstration Parameters</a>"
   ]
  },
  {
   "cell_type": "markdown",
   "id": "21da1068",
   "metadata": {},
   "source": [
    "## 0) Prereqs"
   ]
  },
  {
   "cell_type": "code",
   "execution_count": null,
   "id": "f5dc7f96",
   "metadata": {},
   "outputs": [],
   "source": [
    "import json"
   ]
  },
  {
   "cell_type": "markdown",
   "id": "8504535d",
   "metadata": {},
   "source": [
    "## 1) Define Demonstration Parameters"
   ]
  },
  {
   "cell_type": "code",
   "execution_count": null,
   "id": "129ebb3d",
   "metadata": {},
   "outputs": [],
   "source": [
    "demo_params = {\n",
    "    \"num_demos_\": {\n",
    "        \"gpt2_xl\": 20,\n",
    "        \"gpt_j\": 40,\n",
    "        \"gpt_neox\": 40,\n",
    "        \"gpt_neo_125M\": 15,\n",
    "        \"gpt_neo_1.3B\": 30,\n",
    "        \"gpt_neo_2.7B\": 30,\n",
    "        \"opt_125M\": 15,\n",
    "        \"opt_1.3B\": 30,\n",
    "        \"pythia_13B_deduped\": 30,\n",
    "        \"bloom_560M\": 20,\n",
    "    },\n",
    "    \"percent_true\": 0,\n",
    "    \"permuted\": True,\n",
    "}"
   ]
  },
  {
   "cell_type": "markdown",
   "id": "04419feb",
   "metadata": {},
   "source": [
    "## 2) Save Demonstration Parameters"
   ]
  },
  {
   "cell_type": "code",
   "execution_count": null,
   "id": "048c2172",
   "metadata": {},
   "outputs": [],
   "source": [
    "with open('data/demo_params.json', 'w') as fp:\n",
    "    json.dump(demo_params, fp)"
   ]
  }
 ],
 "metadata": {
  "kernelspec": {
   "display_name": "Python 3 (ipykernel)",
   "language": "python",
   "name": "python3"
  },
  "language_info": {
   "codemirror_mode": {
    "name": "ipython",
    "version": 3
   },
   "file_extension": ".py",
   "mimetype": "text/x-python",
   "name": "python",
   "nbconvert_exporter": "python",
   "pygments_lexer": "ipython3",
   "version": "3.8.12"
  }
 },
 "nbformat": 4,
 "nbformat_minor": 5
}
