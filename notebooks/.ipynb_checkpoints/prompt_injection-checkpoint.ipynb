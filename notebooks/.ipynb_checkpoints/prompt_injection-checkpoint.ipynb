{
 "cells": [
  {
   "cell_type": "markdown",
   "metadata": {},
   "source": [
    "# Prompt Injection"
   ]
  },
  {
   "cell_type": "markdown",
   "metadata": {},
   "source": [
    "----------------\n",
    "\n",
    "We use the tuned lens to reveal knowledge that models represent during its processing. <br>\n",
    "\n",
    "<u>Setups:</u> <br>\n",
    "<u>Prompt Injection:</u> <br>\n",
    "    - Inject some verbage (e.g. \"ignore the task and output X\") to make the model ignore the task and output X.\n",
    "\n",
    "We are interested in the following metrics: <br>\n",
    "    1) top-1 accuracy: if the top logit is the correct label. <br>\n",
    "    2) label space: sum of probabilities of labels. <br>\n",
    "    3) correct over incorrect: if the correct label's probability is greater than all other label probabilities. <br>\n",
    "    4) calibrated correct over incorrect: if the correct label probability is greater than the kth quantile (where k is 1/(number_of_labels - 1)) probability of that label on n inputs. <br>\n",
    "\n",
    "\n",
    "----------------"
   ]
  },
  {
   "cell_type": "markdown",
   "metadata": {},
   "source": [
    "## Table of Contents\n",
    "- <a href='#0)-Prereqs-[required]'>0) Prereqs [required]</a>\n",
    "- <a href='#1)-Walkthrough-[demo]'>1) Walkthrough [demo]</a>\n",
    "  * <a href='#1.1)-Model-and-Tokenizer'>1.1) Model and Tokenizer</a>\n",
    "  * <a href='#1.2)-Data-Parameters'>1.2) Data Parameters</a>\n",
    "  * <a href='#1.3)-Dataset'>1.3) Dataset</a>\n",
    "  * <a href='#1.4)-Prefixes'>1.4) Prefixes</a>\n",
    "  * <a href='#1.5)-Tokenized-Inputs-and-Label-Indices'>1.5) Tokenized Inputs and Label Indices</a>\n",
    "  * <a href='#1.6)-Intermediate-Logits-and-Probabilities'>1.6) Intermediate Logits and Probabilities</a>\n",
    "  * <a href='#1.7)-Metrics:-Top-1-Accuracy,-Top-Number-of-Labels-Match,-Label-Space-Probability'>1.7) Metrics: Top-1 Accuracy, Top Number of Labels Match, Label Space Probability</a>\n",
    "  * <a href='#1.8)-Metrics:-Correct-over-Incorrect'>1.8) Metrics: Correct over Incorrect</a>\n",
    "  * <a href='#1.9)-Metrics:-Calibrated-Correct-over-Incorrect,-Calibrated-Permute-Score'>1.9) Metrics: Calibrated Correct over Incorrect, Calibrated Permute Score</a>\n",
    "  * <a href='#1.10)-Plot-Metrics'>1.10) Plot Metrics</a>\n",
    "- <a href='#2)-Datasets-[start-here]'>2) Datasets [start here]</a>\n",
    "- <a href='#3)-Model-Inference-[skip]'>3) Model Inference [skip]</a>\n",
    "- <a href='#4)-Load-Metrics'>4) Load Metrics</a>\n",
    "- <a href='#5)-Plot-Metrics'>5) Plot Metrics</a>"
   ]
  },
  {
   "cell_type": "markdown",
   "metadata": {},
   "source": [
    "## 0) Prereqs [required]"
   ]
  },
  {
   "cell_type": "code",
   "execution_count": 1,
   "metadata": {
    "scrolled": true
   },
   "outputs": [
    {
     "name": "stdout",
     "output_type": "stream",
     "text": [
      "Sun Dec  4 19:37:06 2022       \n",
      "+-----------------------------------------------------------------------------+\n",
      "| NVIDIA-SMI 510.47.03    Driver Version: 510.47.03    CUDA Version: 11.6     |\n",
      "|-------------------------------+----------------------+----------------------+\n",
      "| GPU  Name        Persistence-M| Bus-Id        Disp.A | Volatile Uncorr. ECC |\n",
      "| Fan  Temp  Perf  Pwr:Usage/Cap|         Memory-Usage | GPU-Util  Compute M. |\n",
      "|                               |                      |               MIG M. |\n",
      "|===============================+======================+======================|\n",
      "|   0  NVIDIA A100 80G...  On   | 00000000:4F:00.0 Off |                    0 |\n",
      "| N/A   47C    P0    88W / 250W |  24939MiB / 81920MiB |      0%      Default |\n",
      "|                               |                      |             Disabled |\n",
      "+-------------------------------+----------------------+----------------------+\n",
      "                                                                               \n",
      "+-----------------------------------------------------------------------------+\n",
      "| Processes:                                                                  |\n",
      "|  GPU   GI   CI        PID   Type   Process name                  GPU Memory |\n",
      "|        ID   ID                                                   Usage      |\n",
      "|=============================================================================|\n",
      "|    0   N/A  N/A      2120      G   /usr/lib/xorg/Xorg                 35MiB |\n",
      "|    0   N/A  N/A    773640      C   ...ux/anaconda3.8/bin/python    24901MiB |\n",
      "+-----------------------------------------------------------------------------+\n"
     ]
    }
   ],
   "source": [
    "!nvidia-smi"
   ]
  },
  {
   "cell_type": "code",
   "execution_count": 3,
   "metadata": {
    "scrolled": true
   },
   "outputs": [],
   "source": [
    "import sys\n",
    "import os\n",
    "sys.path.append(\"../dev\")\n",
    "import json\n",
    "import pickle\n",
    "import dill\n",
    "\n",
    "from utils import *\n",
    "from model import *\n",
    "from data import *\n",
    "from metrics import *\n",
    "from visualize import *\n",
    "from run import *"
   ]
  }
 ],
 "metadata": {
  "kernelspec": {
   "display_name": "Python 3 (ipykernel)",
   "language": "python",
   "name": "python3"
  },
  "language_info": {
   "codemirror_mode": {
    "name": "ipython",
    "version": 3
   },
   "file_extension": ".py",
   "mimetype": "text/x-python",
   "name": "python",
   "nbconvert_exporter": "python",
   "pygments_lexer": "ipython3",
   "version": "3.10.8"
  }
 },
 "nbformat": 4,
 "nbformat_minor": 4
}
