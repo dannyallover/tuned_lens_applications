{
 "cells": [
  {
   "cell_type": "markdown",
   "id": "910dc13b",
   "metadata": {},
   "source": [
    "# Dataset Parameters"
   ]
  },
  {
   "cell_type": "markdown",
   "id": "d3a240b7",
   "metadata": {},
   "source": [
    "----------------\n",
    "\n",
    "Here we define the parameters for each dataset: <br>\n",
    "(1) the name of the dataset <br>\n",
    "(2) [if applicable] the sub-dataset (e.g. rte for glue) <br>\n",
    "(3) whether the training set or test set should be used <br>\n",
    "(4) whether the dataset is on huggingface <br>\n",
    "\n",
    "----------------"
   ]
  },
  {
   "cell_type": "markdown",
   "id": "1292b3ac",
   "metadata": {},
   "source": [
    "## Table of Contents\n",
    "- <a href='#0)-Prereqs'>0) Prereqs</a>\n",
    "- <a href='#1)-Define-Dataset-Parameters'>1) Define Dataset Parameters</a>\n",
    "  * <a href='#1.1)-SST-2'>1.1) SST-2</a>\n",
    "  * <a href='#1.2)-AGNews'>1.2) AGNews</a>\n",
    "  * <a href='#1.3)-TREC'>1.3) TREC</a>\n",
    "  * <a href='#1.4)-DBPedia'>1.4) DBPedia</a>\n",
    "  * <a href='#1.5)-RTE'>1.5) RTE</a>\n",
    "  * <a href='#1.6)-MRPC'>1.6) MRPC</a>\n",
    "  * <a href='#1.7)-TweetEval-Hate'>1.7) TweetEval-Hate</a>\n",
    "  * <a href='#1.8)-SICK'>1.8) SICK</a>\n",
    "  * <a href='#1.9)-Poem-Sentiment'>1.9) Poem-Sentiment</a>\n",
    "  * <a href='#1.10)-Ethos'>1.10) Ethos</a>\n",
    "  * <a href='#1.11)-Financial-Phrasebank'>1.11) Financial-Phrasebank</a>\n",
    "  * <a href='#1.12)-MedQ-Pairs'>1.12) MedQ-Pairs</a>\n",
    "  * <a href='#1.13)-TweetEval-Feminist'>1.13) TweetEval-Feminist</a>\n",
    "  * <a href='#1.14)-TweetEval-Atheism'>1.14) TweetEval-Atheism</a>\n",
    "  * <a href='#1.15)-Unnatural'>1.15) Unnatural</a>\n",
    "  * <a href='#1.16)-SST-2-A/B'>1.16) SST-2-A/B</a>\n",
    "- <a href='#2)-Save-Dataset-Parameters'>2) Save Dataset Parameters</a>"
   ]
  },
  {
   "cell_type": "markdown",
   "id": "a03acbf5",
   "metadata": {},
   "source": [
    "## 0) Prereqs"
   ]
  },
  {
   "cell_type": "code",
   "execution_count": null,
   "id": "8e00b5e4",
   "metadata": {},
   "outputs": [],
   "source": [
    "import json"
   ]
  },
  {
   "cell_type": "markdown",
   "id": "1c96fa9a",
   "metadata": {},
   "source": [
    "## 1) Define Dataset Parameters"
   ]
  },
  {
   "cell_type": "markdown",
   "id": "50e7b4bc",
   "metadata": {},
   "source": [
    "### 1.1) SST-2"
   ]
  },
  {
   "cell_type": "code",
   "execution_count": null,
   "id": "8eb6c8db",
   "metadata": {},
   "outputs": [],
   "source": [
    "sst2_dataset_params = {\n",
    "    \"set_name\": \"sst2\",\n",
    "    \"config\": None,\n",
    "    \"train_or_test\": \"train\",\n",
    "    \"on_hugging_face\": True,\n",
    "}"
   ]
  },
  {
   "cell_type": "markdown",
   "id": "f1e2489f",
   "metadata": {},
   "source": [
    "### 1.2) AGNews"
   ]
  },
  {
   "cell_type": "code",
   "execution_count": null,
   "id": "fa90bb76",
   "metadata": {},
   "outputs": [],
   "source": [
    "agnews_dataset_params = {\n",
    "    \"set_name\": \"ag_news\",\n",
    "    \"config\": None,\n",
    "    \"train_or_test\": \"train\",\n",
    "    \"on_hugging_face\": True,\n",
    "}"
   ]
  },
  {
   "cell_type": "markdown",
   "id": "b2e6e6ae",
   "metadata": {},
   "source": [
    "### 1.3) TREC"
   ]
  },
  {
   "cell_type": "code",
   "execution_count": null,
   "id": "57dd411e",
   "metadata": {},
   "outputs": [],
   "source": [
    "trec_dataset_params = {\n",
    "    \"set_name\": \"trec\",\n",
    "    \"config\": None,\n",
    "    \"train_or_test\": \"train\",\n",
    "    \"on_hugging_face\": True,\n",
    "}"
   ]
  },
  {
   "cell_type": "markdown",
   "id": "54857259",
   "metadata": {},
   "source": [
    "### 1.4) DBPedia"
   ]
  },
  {
   "cell_type": "code",
   "execution_count": null,
   "id": "2821b9d5",
   "metadata": {},
   "outputs": [],
   "source": [
    "dbpedia_dataset_params = {\n",
    "    \"set_name\": \"dbpedia_14\",\n",
    "    \"config\": None,\n",
    "    \"train_or_test\": \"train\",\n",
    "    \"on_hugging_face\": True,\n",
    "}"
   ]
  },
  {
   "cell_type": "markdown",
   "id": "beb20047",
   "metadata": {},
   "source": [
    "### 1.5) RTE"
   ]
  },
  {
   "cell_type": "code",
   "execution_count": null,
   "id": "55a14b8a",
   "metadata": {},
   "outputs": [],
   "source": [
    "rte_dataset_params = {\n",
    "    \"set_name\": \"glue\",\n",
    "    \"config\": \"rte\",\n",
    "    \"train_or_test\": \"train\",\n",
    "    \"on_hugging_face\": True,\n",
    "}"
   ]
  },
  {
   "cell_type": "markdown",
   "id": "d405de90",
   "metadata": {},
   "source": [
    "### 1.6) MRPC"
   ]
  },
  {
   "cell_type": "code",
   "execution_count": null,
   "id": "805fb304",
   "metadata": {},
   "outputs": [],
   "source": [
    "mrpc_dataset_params = {\n",
    "    \"set_name\": \"glue\",\n",
    "    \"config\": \"mrpc\",\n",
    "    \"train_or_test\": \"train\",\n",
    "    \"on_hugging_face\": True,\n",
    "}"
   ]
  },
  {
   "cell_type": "markdown",
   "id": "975d944c",
   "metadata": {},
   "source": [
    "### 1.7) TweetEval-Hate"
   ]
  },
  {
   "cell_type": "code",
   "execution_count": null,
   "id": "733c21d3",
   "metadata": {},
   "outputs": [],
   "source": [
    "tweet_eval_hate_dataset_params = {\n",
    "    \"set_name\": \"tweet_eval\",\n",
    "    \"config\": \"hate\",\n",
    "    \"train_or_test\": \"train\",\n",
    "    \"on_hugging_face\": True,\n",
    "}"
   ]
  },
  {
   "cell_type": "markdown",
   "id": "00044854",
   "metadata": {},
   "source": [
    "### 1.8) SICK"
   ]
  },
  {
   "cell_type": "code",
   "execution_count": null,
   "id": "da9854e7",
   "metadata": {},
   "outputs": [],
   "source": [
    "sick_dataset_params = {\n",
    "    \"set_name\": \"sick\",\n",
    "    \"config\": None,\n",
    "    \"train_or_test\": \"train\",\n",
    "    \"on_hugging_face\": True,\n",
    "}"
   ]
  },
  {
   "cell_type": "markdown",
   "id": "6afe62ec",
   "metadata": {},
   "source": [
    "### 1.9) Poem-Sentiment"
   ]
  },
  {
   "cell_type": "code",
   "execution_count": null,
   "id": "757b398a",
   "metadata": {},
   "outputs": [],
   "source": [
    "poem_sentiment_dataset_params = {\n",
    "    \"set_name\": \"poem_sentiment\",\n",
    "    \"config\": None,\n",
    "    \"train_or_test\": \"train\",\n",
    "    \"on_hugging_face\": True,\n",
    "}"
   ]
  },
  {
   "cell_type": "markdown",
   "id": "5a2ab1e8",
   "metadata": {},
   "source": [
    "### 1.10) Ethos"
   ]
  },
  {
   "cell_type": "code",
   "execution_count": null,
   "id": "b4000ead",
   "metadata": {},
   "outputs": [],
   "source": [
    "ethos_dataset_params = {\n",
    "    \"set_name\": \"ethos\",\n",
    "    \"config\": \"binary\",\n",
    "    \"train_or_test\": \"train\",\n",
    "    \"on_hugging_face\": True,\n",
    "}"
   ]
  },
  {
   "cell_type": "markdown",
   "id": "1bfbaf6c",
   "metadata": {},
   "source": [
    "### 1.11) Financial-Phrasebank"
   ]
  },
  {
   "cell_type": "code",
   "execution_count": null,
   "id": "81c588fd",
   "metadata": {},
   "outputs": [],
   "source": [
    "financial_phrasebank_dataset_params = {\n",
    "    \"set_name\": \"financial_phrasebank\",\n",
    "    \"config\": None,\n",
    "    \"train_or_test\": \"\",\n",
    "    \"on_hugging_face\": False,\n",
    "}"
   ]
  },
  {
   "cell_type": "markdown",
   "id": "40d932d2",
   "metadata": {},
   "source": [
    "### 1.12) MedQ-Pairs"
   ]
  },
  {
   "cell_type": "code",
   "execution_count": null,
   "id": "e4a72325",
   "metadata": {},
   "outputs": [],
   "source": [
    "medical_questions_pairs_dataset_params = {\n",
    "    \"set_name\": \"medical_questions_pairs\",\n",
    "    \"config\": None,\n",
    "    \"train_or_test\": \"train\",\n",
    "    \"on_hugging_face\": True,\n",
    "}"
   ]
  },
  {
   "cell_type": "markdown",
   "id": "847ebb20",
   "metadata": {},
   "source": [
    "### 1.13) TweetEval-Feminist"
   ]
  },
  {
   "cell_type": "code",
   "execution_count": null,
   "id": "b9acafb5",
   "metadata": {},
   "outputs": [],
   "source": [
    "tweet_eval_stance_feminist_dataset_params = {\n",
    "    \"set_name\": \"tweet_eval\",\n",
    "    \"config\": \"stance_feminist\",\n",
    "    \"train_or_test\": \"train\",\n",
    "    \"on_hugging_face\": True,\n",
    "}"
   ]
  },
  {
   "cell_type": "markdown",
   "id": "5e66f15d",
   "metadata": {},
   "source": [
    "### 1.14) TweetEval-Atheism"
   ]
  },
  {
   "cell_type": "code",
   "execution_count": null,
   "id": "a6c33229",
   "metadata": {},
   "outputs": [],
   "source": [
    "tweet_eval_stance_atheism_dataset_params = {\n",
    "    \"set_name\": \"tweet_eval\",\n",
    "    \"config\": \"stance_atheism\",\n",
    "    \"train_or_test\": \"train\",\n",
    "    \"on_hugging_face\": True,\n",
    "}"
   ]
  },
  {
   "cell_type": "markdown",
   "id": "36dbfef3",
   "metadata": {},
   "source": [
    "### 1.15) Unnatural"
   ]
  },
  {
   "cell_type": "code",
   "execution_count": null,
   "id": "029886dc",
   "metadata": {},
   "outputs": [],
   "source": [
    "unnatural_dataset_params = {\n",
    "    \"set_name\": \"unnatural\",\n",
    "    \"config\": None,\n",
    "    \"train_or_test\": \"\",\n",
    "    \"on_hugging_face\": False,\n",
    "}"
   ]
  },
  {
   "cell_type": "markdown",
   "id": "13c08661",
   "metadata": {},
   "source": [
    "### 1.16) SST-2-A/B"
   ]
  },
  {
   "cell_type": "code",
   "execution_count": null,
   "id": "03b26115",
   "metadata": {},
   "outputs": [],
   "source": [
    "sst2_ab_dataset_params = {\n",
    "    \"set_name\": \"sst2\",\n",
    "    \"config\": None,\n",
    "    \"train_or_test\": \"train\",\n",
    "    \"on_hugging_face\": True,\n",
    "}"
   ]
  },
  {
   "cell_type": "markdown",
   "id": "a892a344",
   "metadata": {},
   "source": [
    "## 2) Save Dataset Parameters"
   ]
  },
  {
   "cell_type": "code",
   "execution_count": null,
   "id": "3a3d6e39",
   "metadata": {},
   "outputs": [],
   "source": [
    "dataset_params = {\n",
    "    \"sst2\": sst2_dataset_params,\n",
    "    \"agnews\": agnews_dataset_params,\n",
    "    \"trec\": trec_dataset_params,\n",
    "    \"dbpedia\": dbpedia_dataset_params,\n",
    "    \"rte\": rte_dataset_params,\n",
    "    \"mrpc\": mrpc_dataset_params,\n",
    "    \"tweet_eval_hate\": tweet_eval_hate_dataset_params,\n",
    "    \"sick\": sick_dataset_params,\n",
    "    \"poem_sentiment\": poem_sentiment_dataset_params,\n",
    "    \"ethos\": ethos_dataset_params,\n",
    "    \"financial_phrasebank\": financial_phrasebank_dataset_params,\n",
    "    \"medical_questions_pairs\": medical_questions_pairs_dataset_params,\n",
    "    \"tweet_eval_stance_feminist\": tweet_eval_stance_feminist_dataset_params,\n",
    "    \"tweet_eval_stance_atheism\": tweet_eval_stance_atheism_dataset_params,\n",
    "    \"unnatural\": unnatural_dataset_params,\n",
    "    \"sst2_ab\": sst2_ab_dataset_params,\n",
    "}"
   ]
  },
  {
   "cell_type": "code",
   "execution_count": null,
   "id": "ba6f0b97",
   "metadata": {},
   "outputs": [],
   "source": [
    "with open('data/dataset_params.json', 'w') as fp:\n",
    "    json.dump(dataset_params, fp)"
   ]
  }
 ],
 "metadata": {
  "kernelspec": {
   "display_name": "Python 3 (ipykernel)",
   "language": "python",
   "name": "python3"
  },
  "language_info": {
   "codemirror_mode": {
    "name": "ipython",
    "version": 3
   },
   "file_extension": ".py",
   "mimetype": "text/x-python",
   "name": "python",
   "nbconvert_exporter": "python",
   "pygments_lexer": "ipython3",
   "version": "3.8.12"
  }
 },
 "nbformat": 4,
 "nbformat_minor": 5
}
