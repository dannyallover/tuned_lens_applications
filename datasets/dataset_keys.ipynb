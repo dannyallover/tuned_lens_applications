{
 "cells": [
  {
   "cell_type": "markdown",
   "id": "5ce1c1ce",
   "metadata": {},
   "source": [
    "# Dataset Keys"
   ]
  },
  {
   "cell_type": "markdown",
   "id": "c570689c",
   "metadata": {},
   "source": [
    "----------------\n",
    "\n",
    "We invoke the Huggingface API to fetch the dataset; however, each dataset's inputs, label, atributes do not have consistent column names or orderings. Here, we save the keys of the input and label columns.\n",
    "\n",
    "----------------"
   ]
  },
  {
   "cell_type": "markdown",
   "id": "ad41e4f7",
   "metadata": {},
   "source": [
    "## Table of Contents\n",
    "- <a href='#0)-Prereqs'>0) Prereqs</a>\n",
    "- <a href='#1)-Define-Content-Label-Keys'>1) Define Content-Label Keys</a>\n",
    "- <a href='#2)-Save-Content-Label-Keys'>2) Save Content-Label Keys</a>"
   ]
  },
  {
   "cell_type": "markdown",
   "id": "fabe2c4d",
   "metadata": {},
   "source": [
    "## 0) Prereqs"
   ]
  },
  {
   "cell_type": "code",
   "execution_count": null,
   "id": "87abd9b1",
   "metadata": {},
   "outputs": [],
   "source": [
    "import json"
   ]
  },
  {
   "cell_type": "markdown",
   "id": "1a45f50f",
   "metadata": {},
   "source": [
    "## 1) Define Content-Label Keys"
   ]
  },
  {
   "cell_type": "code",
   "execution_count": null,
   "id": "cc21c27a",
   "metadata": {},
   "outputs": [],
   "source": [
    "content_label_keys = {\n",
    "    \"imdb\": ([\"text\"], \"label\"),\n",
    "    \"ag_news\": ([\"text\"], \"label\"),\n",
    "    \"tweet_eval\": ([\"text\"], \"label\"),\n",
    "    \"unnatural\": ([\"text\"], \"label\"),\n",
    "    \"hate_speech18\": ([\"text\"], \"label\"),\n",
    "    \"financial_phrasebank\": ([\"text\"], \"label\"),\n",
    "    \"ethos\": ([\"text\"], \"label\"),\n",
    "    \"sst2\": ([\"sentence\"], \"label\"),\n",
    "    \"trec\": ([\"text\"], \"label-coarse\"),\n",
    "    \"dbpedia_14\": ([\"content\"], \"label\"),\n",
    "    \"super_glue\": ([\"premise\", \"hypothesis\"], \"label\"),\n",
    "    \"glue\": ([\"sentence1\", \"sentence2\"], \"label\"),\n",
    "    \"medical_questions_pairs\": ([\"question_1\", \"question_2\"], \"label\"),\n",
    "    \"sick\": ([\"sentence_A\", \"sentence_B\"], \"label\"),\n",
    "    \"poem_sentiment\": ([\"verse_text\"], \"label\"),\n",
    "}"
   ]
  },
  {
   "cell_type": "markdown",
   "id": "55635882",
   "metadata": {},
   "source": [
    "## 2) Save Content-Label Keys"
   ]
  },
  {
   "cell_type": "code",
   "execution_count": null,
   "id": "0b8bc119",
   "metadata": {},
   "outputs": [],
   "source": [
    "with open('data/data_label_keys.json', 'w') as fp:\n",
    "    json.dump(content_label_keys, fp)"
   ]
  }
 ],
 "metadata": {
  "kernelspec": {
   "display_name": "Python 3 (ipykernel)",
   "language": "python",
   "name": "python3"
  },
  "language_info": {
   "codemirror_mode": {
    "name": "ipython",
    "version": 3
   },
   "file_extension": ".py",
   "mimetype": "text/x-python",
   "name": "python",
   "nbconvert_exporter": "python",
   "pygments_lexer": "ipython3",
   "version": "3.8.12"
  }
 },
 "nbformat": 4,
 "nbformat_minor": 5
}
