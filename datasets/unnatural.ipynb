{
 "cells": [
  {
   "cell_type": "markdown",
   "id": "1c60d28d",
   "metadata": {},
   "source": [
    "# Unnatural Dataset"
   ]
  },
  {
   "cell_type": "markdown",
   "id": "9d36a461",
   "metadata": {},
   "source": [
    "----------------\n",
    "\n",
    "We create the toy task, Unnatural, taken from https://ai.stanford.edu/blog/in-context-learning/.\n",
    "\n",
    "----------------"
   ]
  },
  {
   "cell_type": "markdown",
   "id": "be1d86a0",
   "metadata": {},
   "source": [
    "## Table of Contents\n",
    "- <a href='#0)-Prereqs'>0) Prereqs</a>\n",
    "- <a href='#1)-Create-Dataset'>1) Create Dataset</a>\n",
    "- <a href='#2)-Save-Dataset'>2) Save Dataset</a>"
   ]
  },
  {
   "cell_type": "markdown",
   "id": "9c74605a",
   "metadata": {},
   "source": [
    "## 0) Prereqs"
   ]
  },
  {
   "cell_type": "code",
   "execution_count": null,
   "id": "19e31a9d",
   "metadata": {},
   "outputs": [],
   "source": [
    "import random\n",
    "import pandas as pd"
   ]
  },
  {
   "cell_type": "markdown",
   "id": "fb1ae59e",
   "metadata": {},
   "source": [
    "## 1) Create Dataset"
   ]
  },
  {
   "cell_type": "code",
   "execution_count": null,
   "id": "2ce7fe1f",
   "metadata": {},
   "outputs": [],
   "source": [
    "data_dct = {\n",
    "    \"plant/vegetable\": [\n",
    "        \"onions\",\n",
    "        \"broccoli\",\n",
    "        \"kale\",\n",
    "        \"beet\",\n",
    "        \"corn\",\n",
    "        \"beans\",\n",
    "        \"zucchini\",\n",
    "        \"celery\",\n",
    "        \"lettuce\",\n",
    "        \"radish\",\n",
    "        \"cucumber\",\n",
    "        \"peas\",\n",
    "        \"tomato\",\n",
    "        \"spinach\",\n",
    "        \"carrots\",\n",
    "        \"chard\",\n",
    "        \"artichoke\",\n",
    "        \"asparagus\",\n",
    "        \"cauliflower\",\n",
    "        \"cabbage\",\n",
    "        \"endive\",\n",
    "        \"squash\",\n",
    "        \"sprout\",\n",
    "        \"aubergine\",\n",
    "        \"garlic\",\n",
    "        \"dill\",\n",
    "        \"parsley\",\n",
    "        \"basil\",\n",
    "        \"thyme\",\n",
    "        \"leek\",\n",
    "    ],\n",
    "    \"sport\": [\n",
    "        \"hockey\",\n",
    "        \"golf\",\n",
    "        \"football\",\n",
    "        \"luge\",\n",
    "        \"bowling\",\n",
    "        \"archery\",\n",
    "        \"lacrosse\",\n",
    "        \"badminton\",\n",
    "        \"billiards\",\n",
    "        \"volleyball\",\n",
    "        \"rugby\",\n",
    "        \"cycling\",\n",
    "        \"baseball\",\n",
    "        \"tennis\",\n",
    "        \"judo\",\n",
    "        \"gymnastics\",\n",
    "        \"marathon\",\n",
    "        \"climbing\",\n",
    "        \"triathlon\",\n",
    "        \"swimming\",\n",
    "        \"soccer\",\n",
    "        \"diving\",\n",
    "        \"shooting\",\n",
    "        \"boxing\",\n",
    "        \"rowing\",\n",
    "        \"karate\",\n",
    "        \"skiing\",\n",
    "        \"snowboarding\",\n",
    "        \"taekwondo\",\n",
    "        \"weightlifting\",\n",
    "    ],\n",
    "    \"animal\": [\n",
    "        \"horse\",\n",
    "        \"sheep\",\n",
    "        \"goldfish\",\n",
    "        \"duck\",\n",
    "        \"leopard\",\n",
    "        \"lion\",\n",
    "        \"porcupine\",\n",
    "        \"wolf\",\n",
    "        \"camel\",\n",
    "        \"zebra\",\n",
    "        \"llama\",\n",
    "        \"cat\",\n",
    "        \"elephant\",\n",
    "        \"monkey\",\n",
    "        \"panda\",\n",
    "        \"tiger\",\n",
    "        \"giraffe\",\n",
    "        \"panda\",\n",
    "        \"deer\",\n",
    "        \"turtle\",\n",
    "        \"cheetah\",\n",
    "        \"sloth\",\n",
    "        \"rhinoceros\",\n",
    "        \"crocodile\",\n",
    "        \"butterfly\",\n",
    "        \"squirrel\",\n",
    "        \"llama\",\n",
    "        \"spider\",\n",
    "        \"ant\",\n",
    "        \"lizard\",\n",
    "    ],\n",
    "}"
   ]
  },
  {
   "cell_type": "code",
   "execution_count": null,
   "id": "3d5bc6b4",
   "metadata": {},
   "outputs": [],
   "source": [
    "dataset = []\n",
    "for i, (k, v) in enumerate(data_dct.items()):\n",
    "    for v_ in v:\n",
    "        dataset.append((v_, k))"
   ]
  },
  {
   "cell_type": "code",
   "execution_count": null,
   "id": "6d702bdd",
   "metadata": {},
   "outputs": [],
   "source": [
    "print(dataset[0])"
   ]
  },
  {
   "cell_type": "code",
   "execution_count": null,
   "id": "04e4aaa6",
   "metadata": {},
   "outputs": [],
   "source": [
    "df = pd.DataFrame(dataset, columns = [\"text\", \"label\"])"
   ]
  },
  {
   "cell_type": "code",
   "execution_count": null,
   "id": "cc5520cb",
   "metadata": {},
   "outputs": [],
   "source": [
    "df.head()"
   ]
  },
  {
   "cell_type": "markdown",
   "id": "5b6b1f09",
   "metadata": {},
   "source": [
    "## 2) Save Dataset"
   ]
  },
  {
   "cell_type": "code",
   "execution_count": null,
   "id": "551f215d",
   "metadata": {},
   "outputs": [],
   "source": [
    "df.to_csv(\"data/unnatural.csv\")"
   ]
  }
 ],
 "metadata": {
  "kernelspec": {
   "display_name": "Python 3 (ipykernel)",
   "language": "python",
   "name": "python3"
  },
  "language_info": {
   "codemirror_mode": {
    "name": "ipython",
    "version": 3
   },
   "file_extension": ".py",
   "mimetype": "text/x-python",
   "name": "python",
   "nbconvert_exporter": "python",
   "pygments_lexer": "ipython3",
   "version": "3.8.12"
  }
 },
 "nbformat": 4,
 "nbformat_minor": 5
}
